{
 "cells": [
  {
   "cell_type": "code",
   "execution_count": 1,
   "id": "43e94358",
   "metadata": {},
   "outputs": [],
   "source": [
    "import numpy as np\n"
   ]
  },
  {
   "cell_type": "code",
   "execution_count": 152,
   "id": "b009d973",
   "metadata": {
    "scrolled": true
   },
   "outputs": [
    {
     "name": "stdout",
     "output_type": "stream",
     "text": [
      "Entrez le nombre de tours2\n",
      "[1 0 1 0 1 1 0 1 1 1 0 0 0 1 1 1 1 0 1 1 0 0 0 1 1 1 0 0 1 0 1 1 1 0 0 1 1\n",
      " 0 0 1 1 0 1 0 1 0 0 0 0 0 0 0]\n",
      "here\n",
      "Entrez S pour s'arreter ou bien C pour continuer C\n",
      "[1 0 1 0 1 1 0 1 1 1 0 0 0 1 1 1 1 0 1 1 0 0 0 1 1 1 0 0 1 0 1 1 1 0 0 1 1\n",
      " 0 0 1 1 0 1 0 1 0 0 0 0 0 0]\n",
      "here\n",
      "Entrez S pour s'arreter ou bien C pour continuer S\n",
      "[1 1 1 1 0 1 1 0 1 0 0 1 1 1 1 0 0 0 0 0 1 1 1 0 0 0 0 1 0 1 0 0 1 1 1 0 0\n",
      " 0 1 0 1 1 0 0 0 1 0 1 1 1 0 0]\n",
      "here\n",
      "Entrez S pour s'arreter ou bien C pour continuer C\n",
      "[1 1 1 1 0 1 1 0 1 0 0 1 1 1 1 0 0 0 0 0 1 1 1 0 0 0 0 1 0 1 0 0 1 1 1 0 0\n",
      " 0 1 0 1 1 0 0 0 1 0 1 1 1 0]\n",
      "here\n",
      "Entrez S pour s'arreter ou bien C pour continuer S\n"
     ]
    }
   ],
   "source": [
    "j=0\n",
    "nb_tour=int(input(\"Entrez le nombre de tours\"))\n",
    "for i in range (nb_tour):\n",
    "    nums = np.random.choice([0, 1], size=52)\n",
    "    while nums.sum()!=26:\n",
    "        nums = np.random.choice([0, 1], size=52)\n",
    "    msg=\"C\"\n",
    "    r=26\n",
    "    b=26\n",
    "    while msg=='C' and len(nums)>0:\n",
    "        print(nums)\n",
    "        print('here')\n",
    "        msg=input(\"Entrez S pour s'arreter ou bien C pour continuer \");\n",
    "        if nums[-1]==1:\n",
    "            r-=1\n",
    "\n",
    "        else:        \n",
    "            b-=1\n",
    "        test=nums[-1]\n",
    "        nums=np.delete(nums,-1)\n",
    "\n",
    "    if test==1:\n",
    "        j+=1\n",
    "    else:\n",
    "        j-=1\n",
    "    "
   ]
  },
  {
   "cell_type": "code",
   "execution_count": 153,
   "id": "ad46f2c8",
   "metadata": {},
   "outputs": [
    {
     "data": {
      "text/plain": [
       "-2"
      ]
     },
     "execution_count": 153,
     "metadata": {},
     "output_type": "execute_result"
    }
   ],
   "source": [
    "j\n"
   ]
  }
 ],
 "metadata": {
  "kernelspec": {
   "display_name": "Python 3",
   "language": "python",
   "name": "python3"
  },
  "language_info": {
   "codemirror_mode": {
    "name": "ipython",
    "version": 3
   },
   "file_extension": ".py",
   "mimetype": "text/x-python",
   "name": "python",
   "nbconvert_exporter": "python",
   "pygments_lexer": "ipython3",
   "version": "3.8.8"
  }
 },
 "nbformat": 4,
 "nbformat_minor": 5
}
